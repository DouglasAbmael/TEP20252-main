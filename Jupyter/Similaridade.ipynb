{
 "cells": [
  {
   "cell_type": "code",
   "execution_count": 75,
   "id": "387ba919-0127-46b3-ab78-c1d0a5fd284f",
   "metadata": {},
   "outputs": [],
   "source": [
    "lexico = ['abacate', 'abacaxi', 'abobora', 'abobrinha', 'ananás', 'maçã', 'mamão', 'manga', 'melancia', 'melão', 'mexerica', 'morango']"
   ]
  },
  {
   "cell_type": "code",
   "execution_count": 97,
   "id": "a37bdd45-c81d-4644-8026-f289bc7b5d55",
   "metadata": {},
   "outputs": [
    {
     "name": "stdin",
     "output_type": "stream",
     "text": [
      "Digite uma fruta:  abacate\n"
     ]
    }
   ],
   "source": [
    "entrada = input(\"Digite uma fruta: \")"
   ]
  },
  {
   "cell_type": "code",
   "execution_count": 91,
   "id": "a9b21489-c83f-4108-b7f1-f784b87965d0",
   "metadata": {},
   "outputs": [],
   "source": [
    "def getDigrama(texto):\n",
    "    digramas = []\n",
    "    for i in range(len(texto)-1):\n",
    "      digramas.append(texto[i:i+2])\n",
    "    return digramas\n",
    "\n",
    "def getUnicos(texto): \n",
    "    return set(texto)\n",
    "\n",
    "def getCompartilhados(texto1, texto2):\n",
    "    compartilhados = []\n",
    "    for i in texto1:\n",
    "        for j in texto2:\n",
    "            if i in j:\n",
    "                compartilhados.append(i)\n",
    "                break\n",
    "    return compartilhados\n",
    "def getMetrica(a, b, c):\n",
    "    return  (2* c / (a + b))"
   ]
  },
  {
   "cell_type": "code",
   "execution_count": 57,
   "id": "f1535f25-29fa-4c37-8cd8-fae7fa3f0739",
   "metadata": {},
   "outputs": [],
   "source": [
    "digrama_entrada = getDigrama(entrada)\n",
    "unicos_entrada = getUnicos(digrama_entrada)"
   ]
  },
  {
   "cell_type": "code",
   "execution_count": 93,
   "id": "359f6293-75ee-496e-9bae-4871c6e08c9a",
   "metadata": {},
   "outputs": [
    {
     "data": {
      "text/html": [
       "<div>\n",
       "<style scoped>\n",
       "    .dataframe tbody tr th:only-of-type {\n",
       "        vertical-align: middle;\n",
       "    }\n",
       "\n",
       "    .dataframe tbody tr th {\n",
       "        vertical-align: top;\n",
       "    }\n",
       "\n",
       "    .dataframe thead th {\n",
       "        text-align: right;\n",
       "    }\n",
       "</style>\n",
       "<table border=\"1\" class=\"dataframe\">\n",
       "  <thead>\n",
       "    <tr style=\"text-align: right;\">\n",
       "      <th></th>\n",
       "      <th>Fruta</th>\n",
       "      <th>Digrama</th>\n",
       "      <th>Únicos</th>\n",
       "      <th>Compartilhados</th>\n",
       "      <th>Similaridade</th>\n",
       "    </tr>\n",
       "  </thead>\n",
       "  <tbody>\n",
       "    <tr>\n",
       "      <th>0</th>\n",
       "      <td>abacate</td>\n",
       "      <td>[ab, ba, ac, ca, at, te]</td>\n",
       "      <td>[ab, ba, ac, ca, at, te]</td>\n",
       "      <td>[ac, ca, at, ab, te, ba]</td>\n",
       "      <td>1.000000</td>\n",
       "    </tr>\n",
       "    <tr>\n",
       "      <th>1</th>\n",
       "      <td>abacaxi</td>\n",
       "      <td>[ab, ba, ac, ca, ax, xi]</td>\n",
       "      <td>[ab, ba, ac, ca, at, te]</td>\n",
       "      <td>[ac, ca, ab, ba]</td>\n",
       "      <td>0.666667</td>\n",
       "    </tr>\n",
       "    <tr>\n",
       "      <th>2</th>\n",
       "      <td>abobora</td>\n",
       "      <td>[ab, bo, ob, bo, or, ra]</td>\n",
       "      <td>[ab, ba, ac, ca, at, te]</td>\n",
       "      <td>[ab]</td>\n",
       "      <td>0.181818</td>\n",
       "    </tr>\n",
       "    <tr>\n",
       "      <th>10</th>\n",
       "      <td>mexerica</td>\n",
       "      <td>[me, ex, xe, er, ri, ic, ca]</td>\n",
       "      <td>[ab, ba, ac, ca, at, te]</td>\n",
       "      <td>[ca]</td>\n",
       "      <td>0.153846</td>\n",
       "    </tr>\n",
       "  </tbody>\n",
       "</table>\n",
       "</div>"
      ],
      "text/plain": [
       "       Fruta                       Digrama                    Únicos  \\\n",
       "0    abacate      [ab, ba, ac, ca, at, te]  [ab, ba, ac, ca, at, te]   \n",
       "1    abacaxi      [ab, ba, ac, ca, ax, xi]  [ab, ba, ac, ca, at, te]   \n",
       "2    abobora      [ab, bo, ob, bo, or, ra]  [ab, ba, ac, ca, at, te]   \n",
       "10  mexerica  [me, ex, xe, er, ri, ic, ca]  [ab, ba, ac, ca, at, te]   \n",
       "\n",
       "              Compartilhados  Similaridade  \n",
       "0   [ac, ca, at, ab, te, ba]      1.000000  \n",
       "1           [ac, ca, ab, ba]      0.666667  \n",
       "2                       [ab]      0.181818  \n",
       "10                      [ca]      0.153846  "
      ]
     },
     "execution_count": 93,
     "metadata": {},
     "output_type": "execute_result"
    }
   ],
   "source": [
    "resultado = []\n",
    "\n",
    "for fruta in lexico:\n",
    "    digrama_fruta = getDigrama(fruta)\n",
    "    unicos_fruta = getUnicos(digrama_fruta)\n",
    "    compartilhados = getCompartilhados(unicos_entrada, unicos_fruta)\n",
    "    metrica = getMetrica(len(unicos_entrada), len(unicos_fruta), len(compartilhados))\n",
    "    resultado.append({\n",
    "        \"Fruta\": fruta,\n",
    "        \"Digrama\": digrama_fruta,\n",
    "        \"Únicos\": digrama_entrada,\n",
    "        \"Compartilhados\": compartilhados,\n",
    "        \"Similaridade\": metrica\n",
    "})\n",
    "\n",
    "import pandas as pd\n",
    "df = pd.DataFrame(resultado)\n",
    "df = df.sort_values(by='Similaridade', ascending=False)\n",
    "df.head(4)"
   ]
  },
  {
   "cell_type": "code",
   "execution_count": null,
   "id": "c680c58a-e06b-4537-a864-0284396854ed",
   "metadata": {},
   "outputs": [],
   "source": [
    "compartilhados"
   ]
  }
 ],
 "metadata": {
  "kernelspec": {
   "display_name": "Python 3 (ipykernel)",
   "language": "python",
   "name": "python3"
  },
  "language_info": {
   "codemirror_mode": {
    "name": "ipython",
    "version": 3
   },
   "file_extension": ".py",
   "mimetype": "text/x-python",
   "name": "python",
   "nbconvert_exporter": "python",
   "pygments_lexer": "ipython3",
   "version": "3.12.4"
  }
 },
 "nbformat": 4,
 "nbformat_minor": 5
}
