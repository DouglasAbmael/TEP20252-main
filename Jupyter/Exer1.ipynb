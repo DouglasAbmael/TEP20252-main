{
 "cells": [
  {
   "cell_type": "code",
   "execution_count": 7,
   "id": "135ccee3-514b-46e7-96fa-5ffee92338b9",
   "metadata": {},
   "outputs": [
    {
     "name": "stdout",
     "output_type": "stream",
     "text": [
      "Array de 10 elementos = 5: [5 5 5 5 5 5 5 5 5 5]\n"
     ]
    }
   ],
   "source": [
    "import numpy as np\n",
    "\n",
    "# 1. Array de 10 elementos, todos com valor 5\n",
    "array = np.full(10, 5)\n",
    "print(\"Array de 10 elementos = 5:\", array)"
   ]
  },
  {
   "cell_type": "code",
   "execution_count": 13,
   "id": "785587a6-f030-41fa-8791-9aa25e4d9636",
   "metadata": {},
   "outputs": [
    {
     "name": "stdout",
     "output_type": "stream",
     "text": [
      "Array de 0 a 9: [0 1 2 3 4 5 6 7 8 9]\n"
     ]
    }
   ],
   "source": [
    "# 2. Array de 10 elementos, de 0 a 9\n",
    "array = np.arange(10)\n",
    "print(\"Array de 0 a 9:\", array)"
   ]
  },
  {
   "cell_type": "code",
   "execution_count": 9,
   "id": "5ed363e7-254c-4ca5-a657-8792f184b0b5",
   "metadata": {},
   "outputs": [
    {
     "name": "stdout",
     "output_type": "stream",
     "text": [
      "Matriz 3x3 aleatória (0 a 1):\n",
      " [[0.20057345 0.25642964 0.92326015]\n",
      " [0.15570766 0.95274206 0.99324902]\n",
      " [0.61268455 0.87007173 0.66735378]]\n"
     ]
    }
   ],
   "source": [
    "\n",
    "# 3. Matriz 3x3 com valores aleatórios entre 0 e 1\n",
    "matriz = np.random.rand(3, 3)\n",
    "print(\"Matriz 3x3 aleatória (0 a 1):\\n\", matriz)"
   ]
  },
  {
   "cell_type": "code",
   "execution_count": 11,
   "id": "d71b5023-6c9f-4ee1-bb15-0f05152cf73e",
   "metadata": {},
   "outputs": [
    {
     "name": "stdout",
     "output_type": "stream",
     "text": [
      "Array alternando True/False: [ True False  True False  True]\n"
     ]
    }
   ],
   "source": [
    "# 4. Array de 5 elementos alternando entre True e False\n",
    "array = np.array([True, False] * 3)[:5]\n",
    "print(\"Array alternando True/False:\", array)"
   ]
  },
  {
   "cell_type": "code",
   "execution_count": null,
   "id": "3185a1ec-9de2-4d17-9576-3a5841068b58",
   "metadata": {},
   "outputs": [],
   "source": []
  }
 ],
 "metadata": {
  "kernelspec": {
   "display_name": "Python 3 (ipykernel)",
   "language": "python",
   "name": "python3"
  },
  "language_info": {
   "codemirror_mode": {
    "name": "ipython",
    "version": 3
   },
   "file_extension": ".py",
   "mimetype": "text/x-python",
   "name": "python",
   "nbconvert_exporter": "python",
   "pygments_lexer": "ipython3",
   "version": "3.12.4"
  }
 },
 "nbformat": 4,
 "nbformat_minor": 5
}
